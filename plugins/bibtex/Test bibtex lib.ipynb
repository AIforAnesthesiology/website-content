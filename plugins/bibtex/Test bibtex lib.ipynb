{
 "cells": [
  {
   "cell_type": "markdown",
   "metadata": {},
   "source": [
    "Requires latexcodec: \n",
    "`pip install latexcodec`"
   ]
  },
  {
   "cell_type": "code",
   "execution_count": 1,
   "metadata": {},
   "outputs": [],
   "source": [
    "import bibtexlib\n",
    "import bibtexformatter"
   ]
  },
  {
   "cell_type": "code",
   "execution_count": 2,
   "metadata": {},
   "outputs": [],
   "source": [
    "# read file\n",
    "index, global_index, string_rules = bibtexlib.read_bibtex_file('diag.bib')\n"
   ]
  },
  {
   "cell_type": "markdown",
   "metadata": {},
   "source": [
    "## Formatter"
   ]
  },
  {
   "cell_type": "code",
   "execution_count": 3,
   "metadata": {},
   "outputs": [],
   "source": [
    "html_format = bibtexformatter.HTML_Formatter(string_rules)"
   ]
  },
  {
   "cell_type": "code",
   "execution_count": 4,
   "metadata": {},
   "outputs": [],
   "source": [
    "# example outputs:"
   ]
  },
  {
   "cell_type": "code",
   "execution_count": 5,
   "metadata": {},
   "outputs": [
    {
     "data": {
      "text/plain": [
       "'E. García, A. Oliver, Y. Diez, O. Diaz, A. Gubern-Mérida, X. Lladó and J. Martí. \"Comparison of Four Breast Tissue Segmentation Algorithms for Multi-modal MRI to X-ray Mammography Registration\" in: <i>Breast Imaging</i>, volume 9699 of Lecture Notes in Computer Science, 2016, 493-500'"
      ]
     },
     "execution_count": 5,
     "metadata": {},
     "output_type": "execute_result"
    }
   ],
   "source": [
    "bib_item = global_index['Garc16']\n",
    "html_format.apply(bib_item)"
   ]
  },
  {
   "cell_type": "code",
   "execution_count": 6,
   "metadata": {},
   "outputs": [
    {
     "data": {
      "text/plain": [
       "'F.G. Venhuizen, M.B. Breukink, B. van Ginneken, M.J. J. P. van Grinsven, B. Bloemen, C.B. Hoyng, T. Theelen, C.J. F. Boon and C.I. Sánchez. \"Automated Quantification of Subretinal Fluid in Central Serous Chorioretinopathy in 3D Optical Coherence Tomography Images\" in: Association for Research in Vision and Ophthalmology, 2015'"
      ]
     },
     "execution_count": 6,
     "metadata": {},
     "output_type": "execute_result"
    }
   ],
   "source": [
    "bib_item = global_index['Venh15a']\n",
    "html_format.apply(bib_item)"
   ]
  },
  {
   "cell_type": "code",
   "execution_count": 7,
   "metadata": {},
   "outputs": [
    {
     "data": {
      "text/plain": [
       "'R.H.H.M. Philipsen, C.I. Sánchez, P. Maduskar, J. Melendez, L. Peters-Bax, J.G. Peter, R. Dawson, G. Theron, K. Dheda and B. van Ginneken. \"Automated chest-radiography as a triage for Xpert testing in resource-constrained settings: a prospective study of diagnostic accuracy and costs\", Nature Scientific Reports2015;5'"
      ]
     },
     "execution_count": 7,
     "metadata": {},
     "output_type": "execute_result"
    }
   ],
   "source": [
    "bib_item = global_index['Phil15b']\n",
    "html_format.apply(bib_item)"
   ]
  },
  {
   "cell_type": "code",
   "execution_count": 8,
   "metadata": {},
   "outputs": [
    {
     "data": {
      "text/plain": [
       "'M. van Grinsven. \"Automated analysis of retinal images for detection of age-related macular degeneration and diabetic retinopathy\" <i>PhD thesis</i>, 2016'"
      ]
     },
     "execution_count": 8,
     "metadata": {},
     "output_type": "execute_result"
    }
   ],
   "source": [
    "bib_item = global_index['Grin16c']\n",
    "html_format.apply(bib_item)"
   ]
  },
  {
   "cell_type": "markdown",
   "metadata": {},
   "source": [
    "## Author indexing"
   ]
  },
  {
   "cell_type": "code",
   "execution_count": 9,
   "metadata": {},
   "outputs": [
    {
     "name": "stdout",
     "output_type": "stream",
     "text": [
      "warning! bibtex format error in name \"J.P.van den Bergh, C. Noordam, J.M. Thijssen, B.J. Otten, A.G.\"\n",
      "warning! bibtex format error in name \"Hulsbergen-van de Kaa, C.A., Barentsz, J.O.\"\n",
      "warning! bibtex format error in name \"M.C. van Wijk, J.H.G.M. Klaessens, J.C.W. Hopman, K.D. Liem, J.M. Thijssen\"\n"
     ]
    }
   ],
   "source": [
    "# these are candidate author => bib_key matchings, they should be filtered later probably\n",
    "\n",
    "from collections import defaultdict\n",
    "author_index = defaultdict(set)\n",
    "for bib_key, bib_item in global_index.items():\n",
    "    try:\n",
    "        authors = bib_item.author\n",
    "        for first, von, last, jr in authors:\n",
    "            author_index[last].add(bib_key)\n",
    "    except AttributeError:\n",
    "        print('--------------')\n",
    "        print(bib_key)\n",
    "        print('--------------')"
   ]
  },
  {
   "cell_type": "code",
   "execution_count": 18,
   "metadata": {},
   "outputs": [
    {
     "name": "stdout",
     "output_type": "stream",
     "text": [
      "Venh17b\n",
      "{Freerk G. Venhuizen and Bram van Ginneken and Bart Liefers and Vivian Schreur and {Mark J.J.P}. van Grinsven and Sascha Fauser and Carel B. Hoyng and Thomas Theelen and Clara I. S\\'anchez}\n",
      "Stie15\n",
      "{Stienen, Jozette J C. and Hermens, Rosella P M G. and Wennekes, Lianne and {van de Schans}, Saskia A M. and {van der Maazen}, Richard W M. and Dekker, Helena M. and Liefers, Janine and {van Krieken}, Johan H J M. and Blijlevens, Nicole M A. and Ottevanger, Petronella B. and , P. E. A. R. L study group}\n",
      "Lief17\n",
      "{Bart Liefers and Freerk G. Venhuizen and Thomas Theelen and Carel Hoyng and Bram van Ginneken and Clara~I.~S\\'{a}nchez}\n",
      "Venh17\n",
      "{Freerk G. Venhuizen and Samuel Schaffhauser and Vivian Schreur and Bart Liefers and Bram van Ginneken and Carel B. Hoyng and Thomas Theelen and Eiko K. de Jong and Clara I. S\\'anchez}\n"
     ]
    }
   ],
   "source": [
    "# for example, Stie15 should be excluded for B:\n",
    "for bib_key in author_index['Liefers']:\n",
    "    print(bib_key)\n",
    "    print(global_index[bib_key].entry['author'])\n"
   ]
  },
  {
   "cell_type": "code",
   "execution_count": null,
   "metadata": {},
   "outputs": [],
   "source": []
  }
 ],
 "metadata": {
  "kernelspec": {
   "display_name": "Python 3",
   "language": "python",
   "name": "python3"
  },
  "language_info": {
   "codemirror_mode": {
    "name": "ipython",
    "version": 3
   },
   "file_extension": ".py",
   "mimetype": "text/x-python",
   "name": "python",
   "nbconvert_exporter": "python",
   "pygments_lexer": "ipython3",
   "version": "3.5.2"
  }
 },
 "nbformat": 4,
 "nbformat_minor": 2
}
